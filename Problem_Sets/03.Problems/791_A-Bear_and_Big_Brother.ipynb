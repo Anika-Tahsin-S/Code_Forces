{
 "cells": [
  {
   "cell_type": "code",
   "execution_count": 16,
   "metadata": {},
   "outputs": [
    {
     "name": "stdout",
     "output_type": "stream",
     "text": [
      "1\n"
     ]
    }
   ],
   "source": [
    "a, b = [int(i) for i in input().split()]\n",
    "\n",
    "count = 0\n",
    "\n",
    "while a <= b:\n",
    "    a *= 3\n",
    "    b *= 2\n",
    "    count += 1\n",
    "    \n",
    "print(count) "
   ]
  }
 ],
 "metadata": {
  "language_info": {
   "name": "python"
  },
  "orig_nbformat": 4
 },
 "nbformat": 4,
 "nbformat_minor": 2
}
