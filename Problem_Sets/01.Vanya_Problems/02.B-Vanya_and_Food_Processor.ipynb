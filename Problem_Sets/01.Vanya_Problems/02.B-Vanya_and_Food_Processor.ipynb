{
 "cells": [
  {
   "cell_type": "code",
   "execution_count": 19,
   "metadata": {},
   "outputs": [
    {
     "name": "stdout",
     "output_type": "stream",
     "text": [
      "1\n",
      "2\n",
      "3\n",
      "4\n",
      "5\n"
     ]
    }
   ],
   "source": [
    "n, h, k = [int(i) for i in input().split()]\n",
    "a = [int(i) for i in input().split()]\n",
    "\n",
    "count = 0\n",
    "rest = 0\n",
    "sec = 0\n",
    "for i in a:\n",
    "    if i <= h:\n",
    "        count = (rest + i) - k\n",
    "        sec += 1\n",
    "        #print(count)\n",
    "    print(sec)"
   ]
  },
  {
   "cell_type": "markdown",
   "metadata": {},
   "source": [
    "Unfinished\n"
   ]
  }
 ],
 "metadata": {
  "interpreter": {
   "hash": "5c0372ed38b372118c24adb00d45654d76c8d10261533c5724e3f5fc1d75489a"
  },
  "kernelspec": {
   "display_name": "Python 3.8.8 64-bit",
   "language": "python",
   "name": "python3"
  },
  "language_info": {
   "codemirror_mode": {
    "name": "ipython",
    "version": 3
   },
   "file_extension": ".py",
   "mimetype": "text/x-python",
   "name": "python",
   "nbconvert_exporter": "python",
   "pygments_lexer": "ipython3",
   "version": "3.8.8"
  },
  "orig_nbformat": 4
 },
 "nbformat": 4,
 "nbformat_minor": 2
}
