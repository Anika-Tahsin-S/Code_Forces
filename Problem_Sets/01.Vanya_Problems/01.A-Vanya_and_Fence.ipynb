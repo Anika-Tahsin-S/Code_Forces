{
 "cells": [
  {
   "cell_type": "code",
   "execution_count": 29,
   "metadata": {},
   "outputs": [
    {
     "name": "stdout",
     "output_type": "stream",
     "text": [
      "1\n",
      "2\n",
      "4\n",
      "4\n"
     ]
    }
   ],
   "source": [
    "n, h = [int(i) for i in input().split()]\n",
    "a = [int(i) for i in input().split()]\n",
    "\n",
    "count = 0\n",
    "for i in a:\n",
    "    if h < i:\n",
    "        count += 2\n",
    "    else:\n",
    "        count += 1\n",
    "    #print(count)\n",
    "\n",
    "print(count)"
   ]
  },
  {
   "cell_type": "code",
   "execution_count": 23,
   "metadata": {},
   "outputs": [
    {
     "name": "stdout",
     "output_type": "stream",
     "text": [
      "1\n",
      "4\n"
     ]
    }
   ],
   "source": [
    "n, h = [int(i) for i in input().split()]\n",
    "a = [int(i) for i in input().split()]\n",
    "\n",
    "count = 0\n",
    "for i in a:\n",
    "    if i > h:\n",
    "        count += 1\n",
    "        print(count)\n",
    "\n",
    "summ = (count * 2) + ((n - count)* 1 )\n",
    "\n",
    "print(summ)"
   ]
  },
  {
   "cell_type": "code",
   "execution_count": 28,
   "metadata": {},
   "outputs": [
    {
     "name": "stdout",
     "output_type": "stream",
     "text": [
      "1\n",
      "2\n",
      "4\n",
      "4\n"
     ]
    }
   ],
   "source": [
    "n, h = map(int, input().split())\n",
    "a = list(map(int, input().split()))\n",
    "\n",
    "count = 0\n",
    "for i in a:\n",
    "    if h < i:\n",
    "        count += 2\n",
    "    else:\n",
    "        count += 1\n",
    "    print(count)\n",
    "\n",
    "print(count)"
   ]
  }
 ],
 "metadata": {
  "interpreter": {
   "hash": "b89b5cfaba6639976dc87ff2fec6d58faec662063367e2c229c520fe71072417"
  },
  "kernelspec": {
   "display_name": "Python 3.10.2 64-bit",
   "language": "python",
   "name": "python3"
  },
  "language_info": {
   "codemirror_mode": {
    "name": "ipython",
    "version": 3
   },
   "file_extension": ".py",
   "mimetype": "text/x-python",
   "name": "python",
   "nbconvert_exporter": "python",
   "pygments_lexer": "ipython3",
   "version": "3.10.2"
  },
  "orig_nbformat": 4
 },
 "nbformat": 4,
 "nbformat_minor": 2
}
